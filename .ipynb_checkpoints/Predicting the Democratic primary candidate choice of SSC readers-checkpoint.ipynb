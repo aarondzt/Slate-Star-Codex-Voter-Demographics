{
 "cells": [
  {
   "cell_type": "code",
   "execution_count": 1,
   "metadata": {},
   "outputs": [
    {
     "name": "stdout",
     "output_type": "stream",
     "text": [
      "(7339, 238)\n"
     ]
    }
   ],
   "source": [
    "# Load data\n",
    "import pandas as pd\n",
    "ssc_excel = pd.read_excel('2020ssc_public.xlsx')\n",
    "print(ssc_excel.shape)"
   ]
  },
  {
   "cell_type": "code",
   "execution_count": 2,
   "metadata": {},
   "outputs": [],
   "source": [
    "# Only keep columns up to primary candidate choice\n",
    "ssc = ssc_excel[ssc_excel.columns[:50]]"
   ]
  },
  {
   "cell_type": "code",
   "execution_count": 3,
   "metadata": {},
   "outputs": [
    {
     "name": "stdout",
     "output_type": "stream",
     "text": [
      "(4362, 49)\n"
     ]
    }
   ],
   "source": [
    "# Only look at American samples\n",
    "ssc = ssc[ssc['Country'].str.match('United States')]\n",
    "ssc = ssc.drop('Country', axis = 1)\n",
    "print(ssc.shape)"
   ]
  },
  {
   "cell_type": "code",
   "execution_count": 4,
   "metadata": {},
   "outputs": [],
   "source": [
    "# Replace whitespace with NaN\n",
    "import numpy as np\n",
    "ssc = ssc.replace(r'^\\s*$', np.nan, regex = True)"
   ]
  },
  {
   "cell_type": "code",
   "execution_count": 5,
   "metadata": {},
   "outputs": [
    {
     "name": "stdout",
     "output_type": "stream",
     "text": [
      "(3422, 49)\n"
     ]
    }
   ],
   "source": [
    "# Only look at candidates up to Biden\n",
    "candidates = ssc['DemocraticNominee'].value_counts()[:6].index\n",
    "ssc = ssc[ssc['DemocraticNominee'].isin(candidates)]\n",
    "print(ssc.shape)"
   ]
  },
  {
   "cell_type": "code",
   "execution_count": 6,
   "metadata": {},
   "outputs": [
    {
     "name": "stdout",
     "output_type": "stream",
     "text": [
      "Index(['Referrals', 'SATpreparationtype', 'SATpreparationamount',\n",
      "       'SATfirsttime', 'SATscoremath', 'SATscoreverbalreading', 'LifeEffects',\n",
      "       'ReligiousDenomination', 'IQ', 'MeetupApproval', 'LifeEffects2'],\n",
      "      dtype='object') columns were dropped\n",
      "(3422, 38)\n"
     ]
    }
   ],
   "source": [
    "# Drop columns with lots of NAs\n",
    "lots_of_nas = ssc.isna().sum().sort_values()[-11:].index\n",
    "ssc = ssc.drop(lots_of_nas, axis = 1)\n",
    "print(lots_of_nas, 'columns were dropped')\n",
    "print(ssc.shape)"
   ]
  },
  {
   "cell_type": "code",
   "execution_count": 7,
   "metadata": {},
   "outputs": [
    {
     "name": "stdout",
     "output_type": "stream",
     "text": [
      "(3422, 28)\n"
     ]
    }
   ],
   "source": [
    "# Drop irrelevant columns\n",
    "ssc = ssc.drop(['PreviousSurveys', 'Public', \n",
    "                'LengthofTime', 'Comment', 'Subreddit', 'Discord', 'Ads', 'Meetup', 'LWID', 'EAID'], axis = 1)\n",
    "print(ssc.shape)"
   ]
  },
  {
   "cell_type": "code",
   "execution_count": 8,
   "metadata": {},
   "outputs": [
    {
     "name": "stdout",
     "output_type": "stream",
     "text": [
      "(2850, 28)\n"
     ]
    }
   ],
   "source": [
    "# Drop rows with NAs\n",
    "ssc = ssc.dropna(axis = 0)\n",
    "print(ssc.shape)"
   ]
  },
  {
   "cell_type": "code",
   "execution_count": 9,
   "metadata": {},
   "outputs": [
    {
     "data": {
      "text/plain": [
       "83.28"
      ]
     },
     "execution_count": 9,
     "metadata": {},
     "output_type": "execute_result"
    }
   ],
   "source": [
    "# Kept 80% of data without imputation\n",
    "round(100*2850/3422, 2)"
   ]
  },
  {
   "cell_type": "code",
   "execution_count": 10,
   "metadata": {},
   "outputs": [
    {
     "name": "stdout",
     "output_type": "stream",
     "text": [
      "417    4600000000000000262563516096904207430093507854...\n",
      "Name: Age, dtype: object\n",
      "(2849, 28)\n"
     ]
    }
   ],
   "source": [
    "# Drop nonsense age row\n",
    "print(ssc['Age'].sort_values()[-1:])\n",
    "ssc = ssc.drop(417, axis = 0)\n",
    "print(ssc.shape)\n",
    "age = pd.to_numeric(ssc['Age'])\n",
    "ssc['Age'] = age"
   ]
  },
  {
   "cell_type": "code",
   "execution_count": 11,
   "metadata": {
    "scrolled": true
   },
   "outputs": [
    {
     "data": {
      "text/plain": [
       "Andrew Yang         808\n",
       "Elizabeth Warren    621\n",
       "Bernie Sanders      524\n",
       "Pete Buttigieg      361\n",
       "Tulsi Gabbard       310\n",
       "Joe Biden           225\n",
       "Name: DemocraticNominee, dtype: int64"
      ]
     },
     "execution_count": 11,
     "metadata": {},
     "output_type": "execute_result"
    }
   ],
   "source": [
    "ssc['DemocraticNominee'].value_counts()"
   ]
  },
  {
   "cell_type": "code",
   "execution_count": 12,
   "metadata": {
    "scrolled": false
   },
   "outputs": [
    {
     "data": {
      "text/plain": [
       "Andrew Yang         0.283608\n",
       "Elizabeth Warren    0.217971\n",
       "Bernie Sanders      0.183924\n",
       "Pete Buttigieg      0.126711\n",
       "Tulsi Gabbard       0.108810\n",
       "Joe Biden           0.078975\n",
       "Name: DemocraticNominee, dtype: float64"
      ]
     },
     "execution_count": 12,
     "metadata": {},
     "output_type": "execute_result"
    }
   ],
   "source": [
    "# Random guess = 17%, always guess the top candidate = 28%\n",
    "ssc['DemocraticNominee'].value_counts()/len(ssc)"
   ]
  },
  {
   "cell_type": "code",
   "execution_count": 13,
   "metadata": {},
   "outputs": [],
   "source": [
    "# Code race as white vs. non-white since 2526/2849 samples are white\n",
    "ssc['White'] = ssc['Race'] == 'White (non-Hispanic)'\n",
    "ssc = ssc.drop('Race', axis = 1)"
   ]
  },
  {
   "cell_type": "code",
   "execution_count": 14,
   "metadata": {},
   "outputs": [],
   "source": [
    "# Code sex as male vs. non-male\n",
    "ssc['Male'] = ssc['Sex'] == 'Male'\n",
    "ssc = ssc.drop('Sex', axis = 1)"
   ]
  },
  {
   "cell_type": "code",
   "execution_count": 15,
   "metadata": {},
   "outputs": [],
   "source": [
    "# Code gender as cisgender vs. non-cisgender\n",
    "cisgender = ssc['Gender'].value_counts()[:2].index\n",
    "ssc['Cisgender'] = ssc['Gender'].isin(cisgender)\n",
    "ssc = ssc.drop('Gender', axis = 1)"
   ]
  },
  {
   "cell_type": "code",
   "execution_count": 16,
   "metadata": {},
   "outputs": [],
   "source": [
    "# Code sexuality as heterosexual vs. non-heterosexual\n",
    "ssc['Heterosexual'] = ssc['SexualOrientation'] == 'Heterosexual'\n",
    "ssc = ssc.drop('SexualOrientation', axis = 1)"
   ]
  },
  {
   "cell_type": "code",
   "execution_count": 17,
   "metadata": {},
   "outputs": [],
   "source": [
    "# Code relationship style as monogamous vs. non-monogamous\n",
    "ssc['Monogamous'] = ssc['Relationshipstyle'] == 'Prefer monogamous'\n",
    "ssc = ssc.drop('Relationshipstyle', axis = 1)"
   ]
  },
  {
   "cell_type": "code",
   "execution_count": 18,
   "metadata": {},
   "outputs": [],
   "source": [
    "# Encode relationship status as single vs. non-single\n",
    "ssc['Single'] = ssc['RelationshipStatus'] == 'Single'\n",
    "ssc = ssc.drop('RelationshipStatus', axis = 1)"
   ]
  },
  {
   "cell_type": "code",
   "execution_count": 19,
   "metadata": {},
   "outputs": [],
   "source": [
    "# Code children as true or false\n",
    "ssc['HasChildren'] = ssc['Children'] > 0\n",
    "ssc = ssc.drop('Children', axis = 1)"
   ]
  },
  {
   "cell_type": "code",
   "execution_count": 20,
   "metadata": {},
   "outputs": [],
   "source": [
    "# Extract student from work status\n",
    "ssc['Student'] = ssc['WorkStatus'] == 'Student'\n",
    "ssc = ssc.drop('WorkStatus', axis = 1)"
   ]
  },
  {
   "cell_type": "code",
   "execution_count": 21,
   "metadata": {},
   "outputs": [],
   "source": [
    "# Drop profession, too many options\n",
    "ssc = ssc.drop('Profession', axis = 1)"
   ]
  },
  {
   "cell_type": "code",
   "execution_count": 22,
   "metadata": {},
   "outputs": [],
   "source": [
    "# Quantify degree\n",
    "degree = {'Bachelor\\'s': 1, 'Master\\'s': 2, 'High school': 0, 'Ph D.': 3, 'JD': 3, '2 year degree': 1,\n",
    "       'None': 0, 'MD': 3, 'Other professional degree': 1}\n",
    "degree_quantified = []\n",
    "for row in ssc['Degree']:\n",
    "    degree_quantified.append(degree[row])\n",
    "ssc['DegreeQuantified'] = degree_quantified\n",
    "ssc = ssc.drop('Degree', axis = 1)"
   ]
  },
  {
   "cell_type": "code",
   "execution_count": 23,
   "metadata": {},
   "outputs": [],
   "source": [
    "# Drop EducationComplete\n",
    "ssc = ssc.drop('EducationComplete', axis = 1)"
   ]
  },
  {
   "cell_type": "code",
   "execution_count": 24,
   "metadata": {},
   "outputs": [],
   "source": [
    "# Quantify religion\n",
    "religion = {'Atheist and not spiritual': 0, \n",
    "            'Atheist but spiritual': 1, \n",
    "            'Agnostic': 2, \n",
    "            'Deist/Pantheist/etc.': 3,\n",
    "            'Lukewarm theist': 4,\n",
    "            'Committed theist': 5}\n",
    "religion_quantified = []\n",
    "for row in ssc['ReligiousViews']:\n",
    "    religion_quantified.append(religion[row])\n",
    "ssc['Religiosity'] = religion_quantified\n",
    "ssc = ssc.drop('ReligiousViews', axis = 1)"
   ]
  },
  {
   "cell_type": "code",
   "execution_count": 25,
   "metadata": {},
   "outputs": [],
   "source": [
    "# Code religious background\n",
    "top_three = ['Christian (Protestant)', 'Christian (Catholic)', 'Jewish']\n",
    "ssc['Protestant'] = ssc['ReligiousBackground'] == 'Christian (Protestant)'\n",
    "ssc['Catholic'] = ssc['ReligiousBackground'] == 'Christian (Catholic)'\n",
    "ssc['Jewish'] = ssc['ReligiousBackground'] == 'Jewish'\n",
    "ssc['Other'] = ~ssc['ReligiousBackground'].isin(top_three)\n",
    "ssc = ssc.drop(['ReligiousBackground', 'Other'], axis = 1)"
   ]
  },
  {
   "cell_type": "code",
   "execution_count": 26,
   "metadata": {},
   "outputs": [],
   "source": [
    "# Drop moral views\n",
    "ssc = ssc.drop('MoralViews', axis = 1)"
   ]
  },
  {
   "cell_type": "code",
   "execution_count": 27,
   "metadata": {},
   "outputs": [],
   "source": [
    "# One-hot encode affiliations\n",
    "affiliations = list(ssc['PoliticalAffiliation'].value_counts().index)\n",
    "for x, affiliation in enumerate(affiliations):\n",
    "    affiliations[x] = affiliation.split(',')[0]\n",
    "ssc[affiliations] = pd.get_dummies(ssc['PoliticalAffiliation'])\n",
    "ssc = ssc.drop(['PoliticalAffiliation', 'Liberal'], axis = 1)"
   ]
  },
  {
   "cell_type": "code",
   "execution_count": 28,
   "metadata": {},
   "outputs": [],
   "source": [
    "# Encode parties\n",
    "ssc['AmericanParties'].value_counts()\n",
    "two_parties = ['Democratic Party', 'Republican Party']\n",
    "ssc['Democratic Party'] = ssc['AmericanParties'] == 'Democratic Party'\n",
    "ssc['Republican Party'] = ssc['AmericanParties'] == 'Republican Party'\n",
    "ssc['Neither Party'] = ~ssc['AmericanParties'].isin(two_parties)\n",
    "ssc = ssc.drop(['AmericanParties', 'Neither Party'], axis = 1)"
   ]
  },
  {
   "cell_type": "code",
   "execution_count": 29,
   "metadata": {},
   "outputs": [],
   "source": [
    "# One-hot encode political change\n",
    "political_change = ssc['PoliticalChange'].value_counts().index\n",
    "ssc[political_change] = pd.get_dummies(ssc['PoliticalChange'])\n",
    "ssc = ssc.drop(['PoliticalChange', 'No significant change'], axis = 1)"
   ]
  },
  {
   "cell_type": "code",
   "execution_count": 30,
   "metadata": {},
   "outputs": [],
   "source": [
    "# Convert boolean to 1/0\n",
    "y = ssc['DemocraticNominee']\n",
    "ssc = ssc.drop('DemocraticNominee', axis = 1)\n",
    "ssc = ssc.astype(int)\n",
    "ssc['DemocraticNominee'] = y"
   ]
  },
  {
   "cell_type": "code",
   "execution_count": 31,
   "metadata": {},
   "outputs": [],
   "source": [
    "# Rename long columns\n",
    "ssc.columns = ['Age', 'PoliticalSpectrum', 'PoliticalInterest', 'GlobalWarming',\n",
    "       'Immigration', 'MinimumWage', 'Feminism', 'HumanBiodiversity',\n",
    "       'BasicIncome', 'DonaldTrump', 'White', 'Male', 'Cisgender',\n",
    "       'Heterosexual', 'Monogamous', 'Single', 'HasChildren', 'Student',\n",
    "       'DegreeQuantified', 'Religiosity', 'Protestant', 'Catholic', 'Jewish',\n",
    "       'Social democratic', 'Libertarian', 'Conservative', 'Neoreactionary',\n",
    "       'Alt-right', 'Marxist', 'Democratic Party', 'Republican Party',\n",
    "       'Some other change', 'Further left', 'Further right', 'DemocraticNominee']"
   ]
  },
  {
   "cell_type": "code",
   "execution_count": 32,
   "metadata": {},
   "outputs": [],
   "source": [
    "# Separate features from target\n",
    "X = ssc.drop('DemocraticNominee', axis = 1)"
   ]
  },
  {
   "cell_type": "code",
   "execution_count": 33,
   "metadata": {},
   "outputs": [
    {
     "name": "stdout",
     "output_type": "stream",
     "text": [
      "['PoliticalSpectrum', 'Cisgender'] columns have been removed\n"
     ]
    }
   ],
   "source": [
    "# Examine multicollinearity\n",
    "from statsmodels.stats.outliers_influence import variance_inflation_factor\n",
    "vif = pd.DataFrame(columns = ['Features', 'VIF'])\n",
    "vif['Features'] = X.columns\n",
    "for i in range(X.shape[1]):\n",
    "    vif.loc[i, 'VIF'] = variance_inflation_factor(X.values, i).round(1)\n",
    "# Remove constant row\n",
    "vif = vif[1:]\n",
    "# Remove VIF > X\n",
    "vif_remove = list(vif[vif['VIF'] > 20]['Features'])\n",
    "print(vif_remove, \"columns have been removed\")\n",
    "X = X.drop(vif_remove, axis = 1)"
   ]
  },
  {
   "cell_type": "code",
   "execution_count": 34,
   "metadata": {},
   "outputs": [
    {
     "data": {
      "text/html": [
       "<div>\n",
       "<style scoped>\n",
       "    .dataframe tbody tr th:only-of-type {\n",
       "        vertical-align: middle;\n",
       "    }\n",
       "\n",
       "    .dataframe tbody tr th {\n",
       "        vertical-align: top;\n",
       "    }\n",
       "\n",
       "    .dataframe thead th {\n",
       "        text-align: right;\n",
       "    }\n",
       "</style>\n",
       "<table border=\"1\" class=\"dataframe\">\n",
       "  <thead>\n",
       "    <tr style=\"text-align: right;\">\n",
       "      <th></th>\n",
       "      <th>Features</th>\n",
       "      <th>VIF</th>\n",
       "    </tr>\n",
       "  </thead>\n",
       "  <tbody>\n",
       "    <tr>\n",
       "      <th>3</th>\n",
       "      <td>Immigration</td>\n",
       "      <td>17.8</td>\n",
       "    </tr>\n",
       "    <tr>\n",
       "      <th>5</th>\n",
       "      <td>Feminism</td>\n",
       "      <td>16.1</td>\n",
       "    </tr>\n",
       "    <tr>\n",
       "      <th>1</th>\n",
       "      <td>PoliticalInterest</td>\n",
       "      <td>14.5</td>\n",
       "    </tr>\n",
       "    <tr>\n",
       "      <th>26</th>\n",
       "      <td>Marxist</td>\n",
       "      <td>14.5</td>\n",
       "    </tr>\n",
       "    <tr>\n",
       "      <th>22</th>\n",
       "      <td>Libertarian</td>\n",
       "      <td>13.8</td>\n",
       "    </tr>\n",
       "  </tbody>\n",
       "</table>\n",
       "</div>"
      ],
      "text/plain": [
       "             Features   VIF\n",
       "3         Immigration  17.8\n",
       "5            Feminism  16.1\n",
       "1   PoliticalInterest  14.5\n",
       "26            Marxist  14.5\n",
       "22        Libertarian  13.8"
      ]
     },
     "execution_count": 34,
     "metadata": {},
     "output_type": "execute_result"
    }
   ],
   "source": [
    "# Examine multicollinearity again\n",
    "from statsmodels.stats.outliers_influence import variance_inflation_factor\n",
    "vif = pd.DataFrame(columns = ['Features', 'VIF'])\n",
    "vif['Features'] = X.columns\n",
    "for i in range(X.shape[1]):\n",
    "    vif.loc[i, 'VIF'] = variance_inflation_factor(X.values, i).round(1)\n",
    "# Remove constant row\n",
    "vif = vif[1:]\n",
    "vif.sort_values('VIF', ascending = False)[:5]"
   ]
  },
  {
   "cell_type": "code",
   "execution_count": 35,
   "metadata": {},
   "outputs": [
    {
     "name": "stdout",
     "output_type": "stream",
     "text": [
      "(2279, 32)\n",
      "(570, 32)\n"
     ]
    }
   ],
   "source": [
    "# Train test split\n",
    "from sklearn.model_selection import train_test_split\n",
    "X_train, X_test, y_train, y_test = train_test_split(X, y, test_size = 0.2, stratify = y, random_state = 20201203)\n",
    "print(X_train.shape)\n",
    "print(X_test.shape)"
   ]
  },
  {
   "cell_type": "code",
   "execution_count": 36,
   "metadata": {},
   "outputs": [],
   "source": [
    "# Scaling\n",
    "from sklearn.preprocessing import StandardScaler\n",
    "scaler = StandardScaler()\n",
    "columns = X_train.columns\n",
    "scaler.fit(X_train)\n",
    "X_train = scaler.transform(X_train)\n",
    "X_test = scaler.transform(X_test)"
   ]
  },
  {
   "cell_type": "code",
   "execution_count": 37,
   "metadata": {},
   "outputs": [
    {
     "name": "stdout",
     "output_type": "stream",
     "text": [
      "LR mean test score: 0.443\n",
      "LR std test score: 0.013\n",
      "LR best parameters {'C': 0.1, 'class_weight': 'balanced', 'l1_ratio': 0.5, 'penalty': 'elasticnet', 'solver': 'saga'}\n"
     ]
    }
   ],
   "source": [
    "# Logistic regression with grid search\n",
    "from sklearn.linear_model import LogisticRegression\n",
    "from sklearn.model_selection import GridSearchCV\n",
    "import numpy as np\n",
    "logreg = LogisticRegression()\n",
    "logreg.fit(X_train, y_train)\n",
    "grid = {'C': [0.01, 0.1, 1], 'penalty' :['elasticnet'], 'solver': ['saga'], \n",
    "        'l1_ratio': [0, 0.5, 1], 'class_weight': ['balanced', None]}\n",
    "gridsearch = GridSearchCV(estimator = logreg, param_grid = grid, n_jobs = -1,                      \n",
    "                          cv = 5, return_train_score = True, scoring = 'balanced_accuracy')\n",
    "gridsearch.fit(X_train, y_train)\n",
    "logreg_models = pd.DataFrame(gridsearch.cv_results_).sort_values('mean_test_score', ascending = False)\n",
    "print('LR mean test score:', round(logreg_models['mean_test_score'].iloc[0], 3))\n",
    "print('LR std test score:', round(logreg_models['std_test_score'].iloc[0], 3))\n",
    "print('LR best parameters', logreg_models['params'].iloc[0])"
   ]
  },
  {
   "cell_type": "code",
   "execution_count": 38,
   "metadata": {},
   "outputs": [
    {
     "data": {
      "text/plain": [
       "LogisticRegression(C=0.1, class_weight='balanced', l1_ratio=0.5,\n",
       "                   penalty='elasticnet', solver='saga')"
      ]
     },
     "execution_count": 38,
     "metadata": {},
     "output_type": "execute_result"
    }
   ],
   "source": [
    "# Train with best paraeters\n",
    "logreg = LogisticRegression(\n",
    " C = logreg_models['params'].iloc[0]['C'],\n",
    " class_weight = logreg_models['params'].iloc[0]['class_weight'],\n",
    " l1_ratio = logreg_models['params'].iloc[0]['l1_ratio'],\n",
    " penalty = 'elasticnet',\n",
    " solver = 'saga')\n",
    "logreg.fit(X_train, y_train)"
   ]
  },
  {
   "cell_type": "code",
   "execution_count": 39,
   "metadata": {},
   "outputs": [
    {
     "data": {
      "text/html": [
       "<div>\n",
       "<style scoped>\n",
       "    .dataframe tbody tr th:only-of-type {\n",
       "        vertical-align: middle;\n",
       "    }\n",
       "\n",
       "    .dataframe tbody tr th {\n",
       "        vertical-align: top;\n",
       "    }\n",
       "\n",
       "    .dataframe thead th {\n",
       "        text-align: right;\n",
       "    }\n",
       "</style>\n",
       "<table border=\"1\" class=\"dataframe\">\n",
       "  <thead>\n",
       "    <tr style=\"text-align: right;\">\n",
       "      <th></th>\n",
       "      <th>Feature</th>\n",
       "      <th>Beta</th>\n",
       "    </tr>\n",
       "  </thead>\n",
       "  <tbody>\n",
       "    <tr>\n",
       "      <th>5</th>\n",
       "      <td>Feminism</td>\n",
       "      <td>-0.18</td>\n",
       "    </tr>\n",
       "    <tr>\n",
       "      <th>27</th>\n",
       "      <td>Democratic Party</td>\n",
       "      <td>-0.16</td>\n",
       "    </tr>\n",
       "    <tr>\n",
       "      <th>8</th>\n",
       "      <td>DonaldTrump</td>\n",
       "      <td>0.14</td>\n",
       "    </tr>\n",
       "    <tr>\n",
       "      <th>7</th>\n",
       "      <td>BasicIncome</td>\n",
       "      <td>0.68</td>\n",
       "    </tr>\n",
       "  </tbody>\n",
       "</table>\n",
       "</div>"
      ],
      "text/plain": [
       "             Feature  Beta\n",
       "5           Feminism -0.18\n",
       "27  Democratic Party -0.16\n",
       "8        DonaldTrump  0.14\n",
       "7        BasicIncome  0.68"
      ]
     },
     "execution_count": 39,
     "metadata": {},
     "output_type": "execute_result"
    }
   ],
   "source": [
    "# Sort features by beta value for Andrew Yang\n",
    "feature_coefs = pd.DataFrame(columns = ['Feature', 'Beta'])\n",
    "feature_coefs['Feature'] = columns\n",
    "coefs = logreg.coef_[0].round(2)\n",
    "feature_coefs['Beta'] = coefs\n",
    "feature_coefs.sort_values('Beta').iloc[[0, 1, -2, -1]]"
   ]
  },
  {
   "cell_type": "code",
   "execution_count": 40,
   "metadata": {},
   "outputs": [
    {
     "data": {
      "text/html": [
       "<div>\n",
       "<style scoped>\n",
       "    .dataframe tbody tr th:only-of-type {\n",
       "        vertical-align: middle;\n",
       "    }\n",
       "\n",
       "    .dataframe tbody tr th {\n",
       "        vertical-align: top;\n",
       "    }\n",
       "\n",
       "    .dataframe thead th {\n",
       "        text-align: right;\n",
       "    }\n",
       "</style>\n",
       "<table border=\"1\" class=\"dataframe\">\n",
       "  <thead>\n",
       "    <tr style=\"text-align: right;\">\n",
       "      <th></th>\n",
       "      <th>Feature</th>\n",
       "      <th>Beta</th>\n",
       "    </tr>\n",
       "  </thead>\n",
       "  <tbody>\n",
       "    <tr>\n",
       "      <th>0</th>\n",
       "      <td>Age</td>\n",
       "      <td>-0.20</td>\n",
       "    </tr>\n",
       "    <tr>\n",
       "      <th>15</th>\n",
       "      <td>Student</td>\n",
       "      <td>-0.14</td>\n",
       "    </tr>\n",
       "    <tr>\n",
       "      <th>26</th>\n",
       "      <td>Marxist</td>\n",
       "      <td>0.66</td>\n",
       "    </tr>\n",
       "    <tr>\n",
       "      <th>4</th>\n",
       "      <td>MinimumWage</td>\n",
       "      <td>0.68</td>\n",
       "    </tr>\n",
       "  </tbody>\n",
       "</table>\n",
       "</div>"
      ],
      "text/plain": [
       "        Feature  Beta\n",
       "0           Age -0.20\n",
       "15      Student -0.14\n",
       "26      Marxist  0.66\n",
       "4   MinimumWage  0.68"
      ]
     },
     "execution_count": 40,
     "metadata": {},
     "output_type": "execute_result"
    }
   ],
   "source": [
    "# Sort features by beta value for Bernie Sanders\n",
    "coefs = logreg.coef_[1].round(2)\n",
    "feature_coefs['Beta'] = coefs\n",
    "feature_coefs.sort_values('Beta').iloc[[0, 1, -2, -1]]"
   ]
  },
  {
   "cell_type": "code",
   "execution_count": 41,
   "metadata": {},
   "outputs": [
    {
     "data": {
      "text/html": [
       "<div>\n",
       "<style scoped>\n",
       "    .dataframe tbody tr th:only-of-type {\n",
       "        vertical-align: middle;\n",
       "    }\n",
       "\n",
       "    .dataframe tbody tr th {\n",
       "        vertical-align: top;\n",
       "    }\n",
       "\n",
       "    .dataframe thead th {\n",
       "        text-align: right;\n",
       "    }\n",
       "</style>\n",
       "<table border=\"1\" class=\"dataframe\">\n",
       "  <thead>\n",
       "    <tr style=\"text-align: right;\">\n",
       "      <th></th>\n",
       "      <th>Feature</th>\n",
       "      <th>Beta</th>\n",
       "    </tr>\n",
       "  </thead>\n",
       "  <tbody>\n",
       "    <tr>\n",
       "      <th>2</th>\n",
       "      <td>GlobalWarming</td>\n",
       "      <td>-0.36</td>\n",
       "    </tr>\n",
       "    <tr>\n",
       "      <th>8</th>\n",
       "      <td>DonaldTrump</td>\n",
       "      <td>-0.35</td>\n",
       "    </tr>\n",
       "    <tr>\n",
       "      <th>26</th>\n",
       "      <td>Marxist</td>\n",
       "      <td>0.26</td>\n",
       "    </tr>\n",
       "    <tr>\n",
       "      <th>5</th>\n",
       "      <td>Feminism</td>\n",
       "      <td>0.40</td>\n",
       "    </tr>\n",
       "  </tbody>\n",
       "</table>\n",
       "</div>"
      ],
      "text/plain": [
       "          Feature  Beta\n",
       "2   GlobalWarming -0.36\n",
       "8     DonaldTrump -0.35\n",
       "26        Marxist  0.26\n",
       "5        Feminism  0.40"
      ]
     },
     "execution_count": 41,
     "metadata": {},
     "output_type": "execute_result"
    }
   ],
   "source": [
    "# Sort features by beta value for Elizabeth Warren\n",
    "coefs = logreg.coef_[2].round(2)\n",
    "feature_coefs['Beta'] = coefs\n",
    "feature_coefs.sort_values('Beta').iloc[[0, 1, -2, -1]]"
   ]
  },
  {
   "cell_type": "code",
   "execution_count": 42,
   "metadata": {},
   "outputs": [
    {
     "data": {
      "text/html": [
       "<div>\n",
       "<style scoped>\n",
       "    .dataframe tbody tr th:only-of-type {\n",
       "        vertical-align: middle;\n",
       "    }\n",
       "\n",
       "    .dataframe tbody tr th {\n",
       "        vertical-align: top;\n",
       "    }\n",
       "\n",
       "    .dataframe thead th {\n",
       "        text-align: right;\n",
       "    }\n",
       "</style>\n",
       "<table border=\"1\" class=\"dataframe\">\n",
       "  <thead>\n",
       "    <tr style=\"text-align: right;\">\n",
       "      <th></th>\n",
       "      <th>Feature</th>\n",
       "      <th>Beta</th>\n",
       "    </tr>\n",
       "  </thead>\n",
       "  <tbody>\n",
       "    <tr>\n",
       "      <th>7</th>\n",
       "      <td>BasicIncome</td>\n",
       "      <td>-0.39</td>\n",
       "    </tr>\n",
       "    <tr>\n",
       "      <th>29</th>\n",
       "      <td>Some other change</td>\n",
       "      <td>-0.22</td>\n",
       "    </tr>\n",
       "    <tr>\n",
       "      <th>21</th>\n",
       "      <td>Social democratic</td>\n",
       "      <td>0.23</td>\n",
       "    </tr>\n",
       "    <tr>\n",
       "      <th>11</th>\n",
       "      <td>Heterosexual</td>\n",
       "      <td>0.35</td>\n",
       "    </tr>\n",
       "  </tbody>\n",
       "</table>\n",
       "</div>"
      ],
      "text/plain": [
       "              Feature  Beta\n",
       "7         BasicIncome -0.39\n",
       "29  Some other change -0.22\n",
       "21  Social democratic  0.23\n",
       "11       Heterosexual  0.35"
      ]
     },
     "execution_count": 42,
     "metadata": {},
     "output_type": "execute_result"
    }
   ],
   "source": [
    "# Sort features by beta value for Joe Biden\n",
    "coefs = logreg.coef_[3].round(2)\n",
    "feature_coefs['Beta'] = coefs\n",
    "feature_coefs.sort_values('Beta').iloc[[0, 1, -2, -1]]"
   ]
  },
  {
   "cell_type": "code",
   "execution_count": 43,
   "metadata": {},
   "outputs": [
    {
     "data": {
      "text/html": [
       "<div>\n",
       "<style scoped>\n",
       "    .dataframe tbody tr th:only-of-type {\n",
       "        vertical-align: middle;\n",
       "    }\n",
       "\n",
       "    .dataframe tbody tr th {\n",
       "        vertical-align: top;\n",
       "    }\n",
       "\n",
       "    .dataframe thead th {\n",
       "        text-align: right;\n",
       "    }\n",
       "</style>\n",
       "<table border=\"1\" class=\"dataframe\">\n",
       "  <thead>\n",
       "    <tr style=\"text-align: right;\">\n",
       "      <th></th>\n",
       "      <th>Feature</th>\n",
       "      <th>Beta</th>\n",
       "    </tr>\n",
       "  </thead>\n",
       "  <tbody>\n",
       "    <tr>\n",
       "      <th>8</th>\n",
       "      <td>DonaldTrump</td>\n",
       "      <td>-0.28</td>\n",
       "    </tr>\n",
       "    <tr>\n",
       "      <th>7</th>\n",
       "      <td>BasicIncome</td>\n",
       "      <td>-0.24</td>\n",
       "    </tr>\n",
       "    <tr>\n",
       "      <th>3</th>\n",
       "      <td>Immigration</td>\n",
       "      <td>0.19</td>\n",
       "    </tr>\n",
       "    <tr>\n",
       "      <th>22</th>\n",
       "      <td>Libertarian</td>\n",
       "      <td>0.26</td>\n",
       "    </tr>\n",
       "  </tbody>\n",
       "</table>\n",
       "</div>"
      ],
      "text/plain": [
       "        Feature  Beta\n",
       "8   DonaldTrump -0.28\n",
       "7   BasicIncome -0.24\n",
       "3   Immigration  0.19\n",
       "22  Libertarian  0.26"
      ]
     },
     "execution_count": 43,
     "metadata": {},
     "output_type": "execute_result"
    }
   ],
   "source": [
    "# Sort features by beta value for Pete Buttigieg\n",
    "coefs = logreg.coef_[4].round(2)\n",
    "feature_coefs['Beta'] = coefs\n",
    "feature_coefs.sort_values('Beta').iloc[[0, 1, -2, -1]]"
   ]
  },
  {
   "cell_type": "code",
   "execution_count": 44,
   "metadata": {},
   "outputs": [
    {
     "data": {
      "text/html": [
       "<div>\n",
       "<style scoped>\n",
       "    .dataframe tbody tr th:only-of-type {\n",
       "        vertical-align: middle;\n",
       "    }\n",
       "\n",
       "    .dataframe tbody tr th {\n",
       "        vertical-align: top;\n",
       "    }\n",
       "\n",
       "    .dataframe thead th {\n",
       "        text-align: right;\n",
       "    }\n",
       "</style>\n",
       "<table border=\"1\" class=\"dataframe\">\n",
       "  <thead>\n",
       "    <tr style=\"text-align: right;\">\n",
       "      <th></th>\n",
       "      <th>Feature</th>\n",
       "      <th>Beta</th>\n",
       "    </tr>\n",
       "  </thead>\n",
       "  <tbody>\n",
       "    <tr>\n",
       "      <th>22</th>\n",
       "      <td>Libertarian</td>\n",
       "      <td>-0.45</td>\n",
       "    </tr>\n",
       "    <tr>\n",
       "      <th>27</th>\n",
       "      <td>Democratic Party</td>\n",
       "      <td>-0.31</td>\n",
       "    </tr>\n",
       "    <tr>\n",
       "      <th>0</th>\n",
       "      <td>Age</td>\n",
       "      <td>0.24</td>\n",
       "    </tr>\n",
       "    <tr>\n",
       "      <th>8</th>\n",
       "      <td>DonaldTrump</td>\n",
       "      <td>0.46</td>\n",
       "    </tr>\n",
       "  </tbody>\n",
       "</table>\n",
       "</div>"
      ],
      "text/plain": [
       "             Feature  Beta\n",
       "22       Libertarian -0.45\n",
       "27  Democratic Party -0.31\n",
       "0                Age  0.24\n",
       "8        DonaldTrump  0.46"
      ]
     },
     "execution_count": 44,
     "metadata": {},
     "output_type": "execute_result"
    }
   ],
   "source": [
    "# Sort features by beta value for Tulsi Gabbard\n",
    "coefs = logreg.coef_[5].round(2)\n",
    "feature_coefs['Beta'] = coefs\n",
    "feature_coefs.sort_values('Beta').iloc[[0, 1, -2, -1]]"
   ]
  },
  {
   "cell_type": "code",
   "execution_count": 45,
   "metadata": {},
   "outputs": [],
   "source": [
    "# Create confusion matrix\n",
    "from sklearn.metrics import confusion_matrix\n",
    "y_pred_logreg = logreg.predict(X_train)\n",
    "cm = confusion_matrix(y_train, y_pred_logreg)"
   ]
  },
  {
   "cell_type": "code",
   "execution_count": 46,
   "metadata": {},
   "outputs": [
    {
     "name": "stdout",
     "output_type": "stream",
     "text": [
      "Andrew Yang 41.33 % correct\n",
      "Bernie Sanders 54.65 % correct\n",
      "Elizabeth Warren 52.31 % correct\n",
      "Joe Biden 40.56 % correct\n",
      "Pete Buttigieg 32.53 % correct\n",
      "Tulsi Gabbard 68.15 % correct\n"
     ]
    }
   ],
   "source": [
    "# Compute % correct per candidate\n",
    "cm = pd.DataFrame(cm)\n",
    "cm.columns = logreg.classes_\n",
    "cm.index = logreg.classes_\n",
    "for candidate in logreg.classes_:\n",
    "    print(candidate, round(100*cm.loc[candidate,candidate]/cm.loc[candidate].sum(),2), '% correct')"
   ]
  },
  {
   "cell_type": "code",
   "execution_count": 47,
   "metadata": {},
   "outputs": [
    {
     "name": "stdout",
     "output_type": "stream",
     "text": [
      "LR Balanced accuracy = 0.476\n"
     ]
    }
   ],
   "source": [
    "# Evaluate on the test set\n",
    "from sklearn.metrics import balanced_accuracy_score\n",
    "test_logreg = logreg.predict(X_test)\n",
    "print('LR Balanced accuracy =', balanced_accuracy_score(y_test, test_logreg).round(3))"
   ]
  }
 ],
 "metadata": {
  "kernelspec": {
   "display_name": "Python 3",
   "language": "python",
   "name": "python3"
  },
  "language_info": {
   "codemirror_mode": {
    "name": "ipython",
    "version": 3
   },
   "file_extension": ".py",
   "mimetype": "text/x-python",
   "name": "python",
   "nbconvert_exporter": "python",
   "pygments_lexer": "ipython3",
   "version": "3.8.5"
  }
 },
 "nbformat": 4,
 "nbformat_minor": 4
}
